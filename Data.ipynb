{
 "cells": [
  {
   "cell_type": "markdown",
   "metadata": {
    "collapsed": true
   },
   "source": [
    "# Facility Explorer| Data Description"
   ]
  },
  {
   "cell_type": "markdown",
   "metadata": {},
   "source": [
    "## Data Description:\n",
    "\n",
    "Data Link: https://en.wikipedia.org/wiki/List_of_postal_codes_of_Canada:_M \n",
    "\n",
    "Will use Scarborough dataset  from wikipedia. Dataset consisting of latitude and longitude, zip codes.\n",
    "\n",
    "\n",
    "\n",
    "## API Data:\n",
    "\n",
    "We will need data about different venues in different neighborhoods of that specific borough. \n",
    "To gain that information we will use \"Foursquare\" locational information. 
    "After finding the list of neighborhoods, we then connect to the Foursquare API to gather information about venues inside each and every neighborhood. For each neighborhood, we have chosen the radius to be 100 meter.\n",
    "\n",
    "The data retrieved from Foursquare contained information of venues within a specified distance of the longitude and latitude of the postcodes. The information obtained per venue as follows:\n",
    "\n",
    "     Neighborhood\n",
    "     Neighborhood Latitude\n",
    "     Neighborhood Longitude\n",
    "     Venue\n",
    "     Name of the venue e.g. the name of a store or restaurant\n",
    "     Venue Latitude\n",
    "     Venue Longitude\n",
    "     Venue Category"
   ]
  }
 ],
 "metadata": {
  "kernelspec": {
   "display_name": "Python 3.6",
   "language": "python",
   "name": "python3"
  },
  "language_info": {
   "codemirror_mode": {
    "name": "ipython",
    "version": 3
   },
   "file_extension": ".py",
   "mimetype": "text/x-python",
   "name": "python",
   "nbconvert_exporter": "python",
   "pygments_lexer": "ipython3",
   "version": "3.6.8"
  }
 },
 "nbformat": 4,
 "nbformat_minor": 1
}
